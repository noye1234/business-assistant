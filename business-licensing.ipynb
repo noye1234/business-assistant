{
 "cells": [
  {
   "cell_type": "code",
   "id": "7b4505e3ee3097a3",
   "metadata": {
    "ExecuteTime": {
     "end_time": "2025-06-07T14:18:01.297765Z",
     "start_time": "2025-06-07T14:18:01.278868Z"
    }
   },
   "source": [
    "import pdfplumber\n",
    "import os\n",
    "import json\n",
    "\n",
    "from openai import OpenAI\n",
    "\n",
    "\n"
   ],
   "outputs": [],
   "execution_count": 60
  },
  {
   "metadata": {
    "collapsed": true,
    "ExecuteTime": {
     "end_time": "2025-06-07T14:18:21.131829Z",
     "start_time": "2025-06-07T14:18:01.632056Z"
    }
   },
   "cell_type": "code",
   "source": [
    "with pdfplumber.open('data/business_license_data.pdf') as pdf:\n",
    "    reversed_lines = []\n",
    "    for page in pdf.pages:\n",
    "        text = page.extract_text()\n",
    "        if text:\n",
    "            lines = text.split('\\n')\n",
    "            reversed_lines.extend([line[::-1] for line in lines])\n",
    "\n",
    "all_text_pdf = '\\n'.join(reversed_lines)\n",
    "\n",
    "lines = all_text_pdf.split('\\n')\n",
    "requirements_list = []\n",
    "for line in lines:\n",
    "    if any(word in line for word in [\"דרישה\", \"חובה\", \"על העסק\", \"נדרש\"]):\n",
    "        requirements_list.append(line.strip())\n",
    "\n",
    "os.makedirs('output', exist_ok=True)\n",
    "\n",
    "with open('output/requirements.json', 'w', encoding='utf-8') as f:\n",
    "    json.dump({\"requirements\": requirements_list}, f, ensure_ascii=False, indent=4)\n",
    "\n",
    "print(\"✅ Created 'output/requirements.json'\")\n",
    "\n",
    "client = OpenAI()\n",
    "rules = []\n",
    "\n",
    "for req in requirements_list:\n",
    "    print(f\"🔍 Processing requirement: {req}\")\n",
    "    response = client.chat.completions.create(\n",
    "        model=\"gpt-3.5-turbo\",\n",
    "        messages=[\n",
    "            {\n",
    "                \"role\": \"system\",\n",
    "                \"content\": \"אתה מקטלג דרישות רגולטוריות לפי סוג העסק.\"\n",
    "            },\n",
    "            {\n",
    "                \"role\": \"user\",\n",
    "                \"content\": f\"הדרישה היא: \\\"{req}\\\".\\nתגיד לי איזה תנאים (type וכו') מתאימים לעסק שצריך לקיים את הדרישה הזאת. תשיב במבנה JSON עם 'conditions' ו-'requirement'.\"\n",
    "            }\n",
    "        ]\n",
    "    )\n",
    "    answer = response.choices[0].message.content\n",
    "    rule = json.loads(answer)\n",
    "    rules.append(rule)\n",
    "\n",
    "with open('output/rules.json', 'w', encoding='utf-8') as f:\n",
    "    json.dump(rules, f, ensure_ascii=False, indent=4)\n",
    "\n",
    "print(\"✅ Created 'output/rules.json'\")\n"
   ],
   "id": "initial_id",
   "outputs": [
    {
     "name": "stdout",
     "output_type": "stream",
     "text": [
      " * Serving Flask app '__main__'\n",
      " * Debug mode: on\n"
     ]
    },
    {
     "name": "stderr",
     "output_type": "stream",
     "text": [
      "WARNING: This is a development server. Do not use it in a production deployment. Use a production WSGI server instead.\n",
      " * Running on http://127.0.0.1:5000\n",
      "Press CTRL+C to quit\n",
      " * Restarting with watchdog (windowsapi)\n"
     ]
    },
    {
     "ename": "SystemExit",
     "evalue": "1",
     "output_type": "error",
     "traceback": [
      "An exception has occurred, use %tb to see the full traceback.\n",
      "\u001B[1;31mSystemExit\u001B[0m\u001B[1;31m:\u001B[0m 1\n"
     ]
    },
    {
     "name": "stderr",
     "output_type": "stream",
     "text": [
      "C:\\Users\\eelis\\anaconda3\\Lib\\site-packages\\IPython\\core\\interactiveshell.py:3585: UserWarning: To exit: use 'exit', 'quit', or Ctrl-D.\n",
      "  warn(\"To exit: use 'exit', 'quit', or Ctrl-D.\", stacklevel=1)\n"
     ]
    }
   ],
   "execution_count": 61
  }
 ],
 "metadata": {
  "kernelspec": {
   "display_name": "Python 3",
   "language": "python",
   "name": "python3"
  },
  "language_info": {
   "codemirror_mode": {
    "name": "ipython",
    "version": 2
   },
   "file_extension": ".py",
   "mimetype": "text/x-python",
   "name": "python",
   "nbconvert_exporter": "python",
   "pygments_lexer": "ipython2",
   "version": "2.7.6"
  }
 },
 "nbformat": 4,
 "nbformat_minor": 5
}
